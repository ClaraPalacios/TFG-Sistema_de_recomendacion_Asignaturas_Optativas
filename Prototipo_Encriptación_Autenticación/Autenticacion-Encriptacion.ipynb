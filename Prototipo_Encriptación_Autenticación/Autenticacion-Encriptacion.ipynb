{
 "cells": [
  {
   "cell_type": "markdown",
   "metadata": {},
   "source": [
    "# AUTENTICACIÓN"
   ]
  },
  {
   "cell_type": "code",
   "execution_count": null,
   "metadata": {
    "collapsed": true
   },
   "outputs": [],
   "source": [
    "import requests\n",
    "import pprint"
   ]
  },
  {
   "cell_type": "code",
   "execution_count": null,
   "metadata": {
    "collapsed": true
   },
   "outputs": [],
   "source": [
    "##/User_Get_All   obtener todos los usuarios\n",
    "r = requests.get(\"http://claratfg2.pythonanywhere.com/User_Get_All\")\n",
    "print(r.status_code, r.reason)\n",
    "pprint.pprint(r.json())"
   ]
  },
  {
   "cell_type": "code",
   "execution_count": null,
   "metadata": {
    "collapsed": true
   },
   "outputs": [],
   "source": [
    "##/User_Add   Añadir un usuario\n",
    "r = requests.post(\"http://claratfg2.pythonanywhere.com/User_Add\",json={\n",
    "  \"email\": \"clara3@todoloquepuedas.com\",\n",
    "  \"password\": \"todoloquepuedas3\",\n",
    "  \"rol\": \"Admin\",\n",
    "  \"username\": \"CLARA3\"\n",
    "})\n",
    "print(r.status_code, r.reason)\n",
    "print(r.json())"
   ]
  },
  {
   "cell_type": "code",
   "execution_count": null,
   "metadata": {
    "collapsed": true
   },
   "outputs": [],
   "source": [
    "##/User_Dell   Borrar un usuario\n",
    "r = requests.delete(\"http://claratfg2.pythonanywhere.com/User_Dell\",json={\n",
    "  \"email\": \"clara2@todoloquepuedas.com\",\n",
    "  \"password\": \"todoloquepuedas2\"\n",
    "})\n",
    "print(r.status_code, r.reason)\n",
    "print(r.json())"
   ]
  },
  {
   "cell_type": "code",
   "execution_count": null,
   "metadata": {
    "collapsed": true
   },
   "outputs": [],
   "source": [
    "##/User_Update   Cambiar Password a un usuario\n",
    "r = requests.put(\"http://claratfg2.pythonanywhere.com/User_Update\",json={\n",
    "  \"email\": \"clara3@todoloquepuedas.com\",\n",
    "  \"password_new\": \"todoloquepuedas3\",\n",
    "  \"password_old\": \"todoloquepuedas33\"\n",
    "})\n",
    "print(r.status_code, r.reason)\n",
    "print(r.json())\n"
   ]
  },
  {
   "cell_type": "code",
   "execution_count": null,
   "metadata": {
    "collapsed": true
   },
   "outputs": [],
   "source": [
    "##/User_Update   Cambiar Password a un usuario\n",
    "r = requests.post(\"http://claratfg2.pythonanywhere.com/User_Validate_Credentials\",json={\n",
    "  \"email\": \"clara3@todoloquepuedas.com\",\n",
    "  \"password\": \"todoloquepuedas33\",\n",
    "})\n",
    "print(r.status_code, r.reason)\n",
    "print(r.json())"
   ]
  },
  {
   "cell_type": "code",
   "execution_count": null,
   "metadata": {
    "collapsed": true
   },
   "outputs": [],
   "source": [
    "# ENCRIPTACIÓN"
   ]
  },
  {
   "cell_type": "code",
   "execution_count": null,
   "metadata": {
    "collapsed": true
   },
   "outputs": [],
   "source": [
    "#!/usr/bin/env python\n",
    "# -*- coding: iso-8859-15 -*-\n",
    "from Crypto.Cipher import AES\n",
    "import base64 \n",
    "\n",
    "secret_key=\"supersegurisimo\"\n",
    "secret_key=secret_key.rjust(32)\n",
    "\n",
    "msg_text=\"trabajoFinalGrado\"\n",
    "msg_text=msg_text.rjust(32)\n",
    "\n",
    "\n",
    "cipher = AES.new(secret_key,AES.MODE_ECB) # never use ECB in strong systems obviously\n"
   ]
  },
  {
   "cell_type": "code",
   "execution_count": null,
   "metadata": {
    "collapsed": true
   },
   "outputs": [],
   "source": [
    "encoded = base64.b64encode(cipher.encrypt(msg_text.encode(\"iso-8859-15\"))).decode('iso-8859-15').strip()\n",
    "encoded"
   ]
  },
  {
   "cell_type": "code",
   "execution_count": null,
   "metadata": {
    "collapsed": true
   },
   "outputs": [],
   "source": [
    "decoded = cipher.decrypt(base64.b64decode(encoded)).decode('iso-8859-15').strip()\n",
    "print(type(decoded))\n",
    "decoded"
   ]
  },
  {
   "cell_type": "code",
   "execution_count": null,
   "metadata": {
    "collapsed": true
   },
   "outputs": [],
   "source": []
  },
  {
   "cell_type": "code",
   "execution_count": null,
   "metadata": {
    "collapsed": true
   },
   "outputs": [],
   "source": []
  }
 ],
 "metadata": {
  "anaconda-cloud": {},
  "kernelspec": {
   "display_name": "Python [conda root]",
   "language": "python",
   "name": "conda-root-py"
  },
  "language_info": {
   "codemirror_mode": {
    "name": "ipython",
    "version": 3
   },
   "file_extension": ".py",
   "mimetype": "text/x-python",
   "name": "python",
   "nbconvert_exporter": "python",
   "pygments_lexer": "ipython3",
   "version": "3.5.2"
  }
 },
 "nbformat": 4,
 "nbformat_minor": 1
}
