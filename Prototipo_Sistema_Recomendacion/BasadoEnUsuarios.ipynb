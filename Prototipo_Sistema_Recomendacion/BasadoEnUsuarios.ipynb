{
 "cells": [
  {
   "cell_type": "code",
   "execution_count": 12,
   "metadata": {},
   "outputs": [],
   "source": [
    "#formato binario\n",
    "import pickle\n",
    "import pandas as pd\n",
    "import numpy as np\n",
    "import matplotlib.pyplot as plt\n",
    "import gspread\n",
    "from oauth2client.service_account import ServiceAccountCredentials\n",
    "import operator\n"
   ]
  },
  {
   "cell_type": "code",
   "execution_count": null,
   "metadata": {},
   "outputs": [],
   "source": []
  },
  {
   "cell_type": "code",
   "execution_count": null,
   "metadata": {},
   "outputs": [],
   "source": []
  },
  {
   "cell_type": "code",
   "execution_count": 2,
   "metadata": {},
   "outputs": [],
   "source": [
    "class I_O_Datos_GoogleDrive:\n",
    "    def __init__(self,scope,creds_file,GDriveName):\n",
    "        self._scope=scope\n",
    "        self._creds_file=creds_file\n",
    "        self._GDriveName=GDriveName\n",
    "        \n",
    "    def obtener_datos(self):\n",
    "        # use creds to create a client to interact with the Google Drive API\n",
    "        #scope = ['https://spreadsheets.google.com/feeds','https://www.googleapis.com/auth/drive']\n",
    "        scope = self._scope\n",
    "        #creds = ServiceAccountCredentials.from_json_keyfile_name('client_secret.json', scope)\n",
    "        creds = ServiceAccountCredentials.from_json_keyfile_name(self._creds_file, scope)\n",
    "        \n",
    "        client = gspread.authorize(creds)\n",
    "        # Find a workbook by name and open the first sheet\n",
    "        # Make sure you use the right name here.\n",
    "        sheet = client.open(self._GDriveName).sheet1\n",
    "\n",
    "        # Extract and print all of the values\n",
    "        list_of_hashes = sheet.get_all_records()\n",
    "        #print(list_of_hashes\n",
    "        tabla = pd.DataFrame(data=sheet.get_all_records())\n",
    "        return tabla\n",
    "    def transfor_datos(self,tabla):\n",
    "        #almacenar en un diccionario de diccionarios cuya clave sea el usuario, y como valor un conjunto de  diccionarios\n",
    "        #(clave=nombre asignatura, valor=ponderacion). No introducimos el Token ni la fecha en la que se realizó el cuestionario. \n",
    "        asignaturas= list(tabla.columns)\n",
    "        diccAsi={}\n",
    "        diccAsi.setdefault(1,{})\n",
    "        for k in asignaturas:\n",
    "            if k != 'Token'and k!='Submitted At':\n",
    "                for i, j in zip(tabla[k], range(len(tabla)) ):\n",
    "                    diccAsi.setdefault(j,{})\n",
    "                    diccAsi[j][k]=i\n",
    "        tabla1 = pd.DataFrame.from_dict(diccAsi)\n",
    "        tabla1= tabla1.T\n",
    "        #transformamos los vacíos en NaN para evitar el error de calcular el coeficiente de correlación de pearson entre un int y un string ('' equivale a un str)\n",
    "        tabla1= tabla1.replace('', np.nan, regex=True)\n",
    "        return tabla1"
   ]
  },
  {
   "cell_type": "code",
   "execution_count": 3,
   "metadata": {},
   "outputs": [],
   "source": [
    "Datos_GoogleDrive=I_O_Datos_GoogleDrive(\n",
    "    ['https://spreadsheets.google.com/feeds','https://www.googleapis.com/auth/drive']\n",
    "    ,'client_secret.json'\n",
    "    ,\"DatosTFG_SistemasRecomendacion\")\n",
    "Datos_GoogleDrive_Tabla=Datos_GoogleDrive.obtener_datos()\n",
    "Datos_GoogleDrive_Tabla_transfor= Datos_GoogleDrive.transfor_datos(Datos_GoogleDrive_Tabla)\n"
   ]
  },
  {
   "cell_type": "code",
   "execution_count": null,
   "metadata": {},
   "outputs": [],
   "source": []
  },
  {
   "cell_type": "code",
   "execution_count": 4,
   "metadata": {},
   "outputs": [],
   "source": [
    "class I_O_Datos_Binario:\n",
    "    def __init__(self,nombreArchivo):\n",
    "        self._nombreArchivo=nombreArchivo\n",
    "    #formato binario\n",
    "    def obtener_datos(self):\n",
    "        archivo = open(self._nombreArchivo, \"rb\")\n",
    "        tablaDatos = pickle.load(archivo)\n",
    "        archivo.close()\n",
    "        return tablaDatos\n",
    "    \n",
    "    def guardarDatos(self, tabla1):\n",
    "        archivo = open(self._nombreArchivo, \"wb\")\n",
    "        pickle.dump(tabla1, archivo)\n",
    "        archivo.close()\n",
    "        \n",
    "    def transfor_datos(self,tabla):\n",
    "        #almacenar en un diccionario de diccionarios cuya clave sea el usuario, y como valor un conjunto de  diccionarios\n",
    "        #(clave=nombre asignatura, valor=ponderacion). No introducimos el Token ni la fecha en la que se realizó el cuestionario. \n",
    "        asignaturas= list(tabla.columns)\n",
    "        diccAsi={}\n",
    "        diccAsi.setdefault(1,{})\n",
    "        for k in asignaturas:\n",
    "            if k != 'Token'and k!='Submitted At':\n",
    "                for i, j in zip(tabla[k], range(len(tabla)) ):\n",
    "                    diccAsi.setdefault(j,{})\n",
    "                    diccAsi[j][k]=i\n",
    "        tabla1 = pd.DataFrame.from_dict(diccAsi)\n",
    "        tabla1= tabla1.T\n",
    "        #transformamos los vacíos en NaN para evitar el error de calcular el coeficiente de correlación de pearson entre un int y un string ('' equivale a un str)\n",
    "        tabla1= tabla1.replace('', np.nan, regex=True)\n",
    "        return tabla1"
   ]
  },
  {
   "cell_type": "code",
   "execution_count": null,
   "metadata": {},
   "outputs": [],
   "source": []
  },
  {
   "cell_type": "code",
   "execution_count": null,
   "metadata": {},
   "outputs": [],
   "source": []
  },
  {
   "cell_type": "code",
   "execution_count": null,
   "metadata": {},
   "outputs": [],
   "source": []
  },
  {
   "cell_type": "code",
   "execution_count": 5,
   "metadata": {},
   "outputs": [],
   "source": [
    "IO_DATOS=I_O_Datos_Binario('archivoDatos.bin')\n",
    "tabla=IO_DATOS.obtener_datos()\n",
    "tabla=IO_DATOS.transfor_datos(tabla)\n",
    "#IO_DATOS.guardarDatos(DATOS)\n"
   ]
  },
  {
   "cell_type": "code",
   "execution_count": 6,
   "metadata": {},
   "outputs": [],
   "source": [
    "class Distancias:\n",
    "    def coef_corr_pearson(self,dataframe,a,b,rows=True):\n",
    "        dataframe\n",
    "        if rows:\n",
    "            common_ratings= dataframe.ix[[a,b]].dropna(axis=1).as_matrix()\n",
    "            a_average = dataframe.ix[a].mean()\n",
    "            b_average = dataframe.ix[b].mean()       \n",
    "        else:\n",
    "            common_ratings= dataframe[[a,b]].dropna(axis=0).as_matrix().T\n",
    "            a_average=dataframe[a].mean()\n",
    "            b_average=dataframe[b].mean()              \n",
    "        if common_ratings.any(): \n",
    "            a_common_ratings=common_ratings[0,:]\n",
    "            b_common_ratings=common_ratings[1,:]\n",
    "            pcorr = np.dot(a_common_ratings-a_average,b_common_ratings-b_average) / ( \n",
    "                     np.sqrt(np.dot(a_common_ratings-a_average,a_common_ratings-a_average))*\n",
    "                     np.sqrt(np.dot(b_common_ratings-b_average,b_common_ratings-b_average)))\n",
    "            if np.isnan(pcorr):\n",
    "                return 0\n",
    "            else:\n",
    "                return pcorr\n",
    "        else:\n",
    "            return 0"
   ]
  },
  {
   "cell_type": "code",
   "execution_count": null,
   "metadata": {},
   "outputs": [],
   "source": []
  },
  {
   "cell_type": "code",
   "execution_count": 7,
   "metadata": {},
   "outputs": [],
   "source": [
    "class Matriz_Similitud:\n",
    "    def __init__(self,similarity):\n",
    "        self._similarity=similarity\n",
    "    def similarity_matrix_for_items(self,tabla, rows= False):\n",
    "        # Nacho: utilizo nombres de lista generales para que pueda servir para calcular\n",
    "        # las matriz de similitudes de usuarios o de asignaturas\n",
    "\n",
    "        matrizSim={}\n",
    "\n",
    "        if rows==True:\n",
    "            lista=tabla.index.tolist()\n",
    "        else:\n",
    "            lista=tabla.columns.tolist()\n",
    "\n",
    "        for x in lista:\n",
    "            otras= lista[lista.index(x): len(lista)]\n",
    "            matrizSim[x]= dict([(x2, self._similarity(tabla, x, x2, rows)) for x2 in otras])\n",
    "        for x in lista:\n",
    "            otras= lista[lista.index(x): len(lista)]\n",
    "            for x2 in otras:\n",
    "                matrizSim[x2][x]= matrizSim[x][x2]\n",
    "        return matrizSim\n"
   ]
  },
  {
   "cell_type": "code",
   "execution_count": 13,
   "metadata": {},
   "outputs": [],
   "source": [
    "class Filtro_Basado_Usuarios:\n",
    "    def __init__(self,tabla,similitud):\n",
    "        self._tabla=tabla\n",
    "        self.similitud=similitud\n",
    "        self.matriz_similitud=Matriz_Similitud(self.similitud)\n",
    "        self.matrizSim=pd.DataFrame(self.matriz_similitud.similarity_matrix_for_items(self._tabla.T))\n",
    "        self.asinaturas_cuarto=[\n",
    "            #primer semestre\n",
    "            'Diseño e Implementación de Sistemas Digitales',\n",
    "            'Gestión de la Información',\n",
    "            'Diseño y Mantenimiento del Software',\n",
    "            'Organización y Gestión de Empresas',\n",
    "            'Mantenimiento de Equipos Informáticos',\n",
    "            'Control por Computador',\n",
    "            'Hardware de Aplicación Específica',\n",
    "            'Validación y Pruebas',\n",
    "            'Computación Neuronal y Evolutiva',\n",
    "            'Programación de Sistemas Operativos',\n",
    "            #segundo semestre\n",
    "            'Sistemas Distribuidos',\n",
    "            'Sistemas Empotrados y de Tiempo Real',\n",
    "            'Métodos Formales',\n",
    "            'Nuevas Tecnologías y Empresa',\n",
    "            'Minería de Datos',\n",
    "            'Desarrollo Avanzado de Sistemas Software'\n",
    "        ]\n",
    "        \n",
    "    def calculaPrediccion(self,asign,usuario):\n",
    "        # Encontrar los k usuarios que evaluaron 'asign'\n",
    "        #Nacho guardamos las keys de los usuarios\n",
    "        kUsuarios=self._tabla[self._tabla[asign]>0].index #np.where(dataframe[asign] > 0)[0]\n",
    "\n",
    "        # Calcular la similitud de esos k usuarios a 'usuario'\n",
    "        k_Similitu=self.matrizSim[usuario][kUsuarios]\n",
    "\n",
    "        # Unir índices de usuarios y similitudes\n",
    "        k_zip=list(zip(k_Similitu,kUsuarios))\n",
    "\n",
    "        # Media valoraciones de usuario (sobre asignaturas cursadas)\n",
    "        #Nacho: la función mean() no tiene en cuenta los valores NaN, no es necesario filtrar por valores >0\n",
    "        user_u_average=self._tabla.T[usuario].mean() #[list(np.where(dataframe.T[usuario]>0)[0])].mean()\n",
    "\n",
    "        # Media de los valores absolutos de similitud de vecions próximos a usuario\n",
    "        k_sim=[k_zip[i][0] for i in range(len(k_zip))]\n",
    "        k_sim_average=np.abs(np.array(k_sim)).sum()\n",
    "\n",
    "        # Estimación del rating a la asignatura asign\n",
    "        rating_user_u_item_i=0\n",
    "        for user_v in [k_zip[i][1] for i in range(len(k_zip))]:\n",
    "            rating_user_u_item_i+= (self._tabla.T[user_v][asign] - self._tabla.T[user_v].mean())*self.matrizSim[usuario][user_v]\n",
    "        rating_user_u_item_i=user_u_average + rating_user_u_item_i/k_sim_average\n",
    "        #Devolvemos el rating estimado\n",
    "        return rating_user_u_item_i\n",
    "    def calcula_Prediccion_Cuarto(self,usuario):\n",
    "        for i in self.asinaturas_cuarto:\n",
    "            yield (i,self.calculaPrediccion(i,usuario))\n",
    "            "
   ]
  },
  {
   "cell_type": "code",
   "execution_count": null,
   "metadata": {},
   "outputs": [],
   "source": []
  },
  {
   "cell_type": "code",
   "execution_count": 14,
   "metadata": {},
   "outputs": [],
   "source": [
    "distancias=Distancias()\n",
    "filtro_Basado_Usuarios=Filtro_Basado_Usuarios(tabla,distancias.coef_corr_pearson)\n"
   ]
  },
  {
   "cell_type": "code",
   "execution_count": 15,
   "metadata": {},
   "outputs": [
    {
     "data": {
      "text/plain": [
       "[('Control por Computador', 4.296633133198905),\n",
       " ('Validación y Pruebas', 4.133610485844622),\n",
       " ('Minería de Datos', 3.9502678618405507),\n",
       " ('Diseño y Mantenimiento del Software', 3.9407602856983424),\n",
       " ('Hardware de Aplicación Específica', 3.7851875131110067),\n",
       " ('Desarrollo Avanzado de Sistemas Software', 3.736321496385728),\n",
       " ('Diseño e Implementación de Sistemas Digitales', 3.714416716357596),\n",
       " ('Computación Neuronal y Evolutiva', 3.608691499241023),\n",
       " ('Programación de Sistemas Operativos', 3.5828854168009996),\n",
       " ('Sistemas Distribuidos', 3.53261502259667),\n",
       " ('Organización y Gestión de Empresas', 3.2591297298454056),\n",
       " ('Sistemas Empotrados y de Tiempo Real', 3.185253700590988),\n",
       " ('Métodos Formales', 3.1112223044195737),\n",
       " ('Nuevas Tecnologías y Empresa', 3.109305563503443),\n",
       " ('Gestión de la Información', 3.0812529463513467),\n",
       " ('Mantenimiento de Equipos Informáticos', 2.8803380183989824)]"
      ]
     },
     "execution_count": 15,
     "metadata": {},
     "output_type": "execute_result"
    }
   ],
   "source": [
    "usuario=2\n",
    "predic=dict(filtro_Basado_Usuarios.calcula_Prediccion_Cuarto(usuario))\n",
    "predic = sorted(predic.items(), key=operator.itemgetter(1),reverse=True)\n",
    "predic"
   ]
  },
  {
   "cell_type": "code",
   "execution_count": null,
   "metadata": {},
   "outputs": [],
   "source": [
    "\n"
   ]
  },
  {
   "cell_type": "code",
   "execution_count": null,
   "metadata": {},
   "outputs": [],
   "source": []
  },
  {
   "cell_type": "code",
   "execution_count": null,
   "metadata": {},
   "outputs": [],
   "source": []
  },
  {
   "cell_type": "code",
   "execution_count": null,
   "metadata": {},
   "outputs": [],
   "source": []
  },
  {
   "cell_type": "code",
   "execution_count": null,
   "metadata": {},
   "outputs": [],
   "source": []
  },
  {
   "cell_type": "code",
   "execution_count": null,
   "metadata": {
    "scrolled": false
   },
   "outputs": [],
   "source": []
  },
  {
   "cell_type": "code",
   "execution_count": null,
   "metadata": {},
   "outputs": [],
   "source": []
  },
  {
   "cell_type": "code",
   "execution_count": null,
   "metadata": {},
   "outputs": [],
   "source": []
  },
  {
   "cell_type": "code",
   "execution_count": null,
   "metadata": {},
   "outputs": [],
   "source": []
  },
  {
   "cell_type": "code",
   "execution_count": null,
   "metadata": {},
   "outputs": [],
   "source": []
  },
  {
   "cell_type": "code",
   "execution_count": null,
   "metadata": {},
   "outputs": [],
   "source": []
  },
  {
   "cell_type": "code",
   "execution_count": null,
   "metadata": {},
   "outputs": [],
   "source": []
  },
  {
   "cell_type": "code",
   "execution_count": null,
   "metadata": {},
   "outputs": [],
   "source": []
  },
  {
   "cell_type": "code",
   "execution_count": null,
   "metadata": {},
   "outputs": [],
   "source": []
  },
  {
   "cell_type": "code",
   "execution_count": null,
   "metadata": {},
   "outputs": [],
   "source": []
  },
  {
   "cell_type": "markdown",
   "metadata": {},
   "source": [
    "# guardar y vaciar asignaturas"
   ]
  },
  {
   "cell_type": "code",
   "execution_count": null,
   "metadata": {},
   "outputs": [],
   "source": [
    "def vaciarAsignaturas( asignaturas):\n",
    "    cont=1\n",
    "    for i in list(asignaturas.keys()):\n",
    "        asignaturas[i] = 0\n",
    "        cont+=1\n",
    "    return asignaturas"
   ]
  },
  {
   "cell_type": "code",
   "execution_count": null,
   "metadata": {},
   "outputs": [],
   "source": [
    "asignaturas= {}"
   ]
  },
  {
   "cell_type": "code",
   "execution_count": null,
   "metadata": {},
   "outputs": [],
   "source": [
    "def guardarAsignaturas( diccion, asigna, valor):\n",
    "    asignaturas[asigna.replace('_', \" \", regex=True)] = valor\n",
    "    return asignaturas"
   ]
  },
  {
   "cell_type": "code",
   "execution_count": null,
   "metadata": {},
   "outputs": [],
   "source": [
    "asignaturas= guardarAsignaturas(  asignaturas, 'Análisis_y_Diseño_de_Sistemas', 4)"
   ]
  },
  {
   "cell_type": "code",
   "execution_count": null,
   "metadata": {},
   "outputs": [],
   "source": [
    "asignaturas"
   ]
  },
  {
   "cell_type": "code",
   "execution_count": null,
   "metadata": {},
   "outputs": [],
   "source": [
    "\n",
    "asignaturas=vaciarAsignaturas( asignaturas)"
   ]
  },
  {
   "cell_type": "code",
   "execution_count": null,
   "metadata": {},
   "outputs": [],
   "source": [
    "asignaturas"
   ]
  },
  {
   "cell_type": "code",
   "execution_count": null,
   "metadata": {},
   "outputs": [],
   "source": []
  },
  {
   "cell_type": "code",
   "execution_count": null,
   "metadata": {},
   "outputs": [],
   "source": [
    "def funDiccSem1(values):\n",
    "    diccSem1 = {}\n",
    "    diccSem1['Fundamentos Deontológicos y Jurídicos de las TIC']= values[0]\n",
    "    diccSem1['Álgebra Lineal']= values[1]\n",
    "    diccSem1['Informática Básica']= values[2]\n",
    "    diccSem1['Fundamentos Físicos de la Informática']= values[3]\n",
    "    diccSem1['Matemática Discreta']= values[4]\n",
    "    return diccSem1"
   ]
  },
  {
   "cell_type": "code",
   "execution_count": null,
   "metadata": {},
   "outputs": [],
   "source": [
    "def funDiccSem2(values):\n",
    "    diccSem2 = {}\n",
    "    diccSem2['Inglés Aplicado a la Informática']= values[0]\n",
    "    diccSem2['Cálculo']= values[1]\n",
    "    diccSem2['Programación']= values[2]\n",
    "    diccSem2['Fundamentos de Computadores']= values[3]\n",
    "    diccSem2['Sistemas Operativos']= values[4]\n",
    "    return diccSem2"
   ]
  },
  {
   "cell_type": "code",
   "execution_count": null,
   "metadata": {},
   "outputs": [],
   "source": [
    "def funDiccSem3(values):\n",
    "    diccSem3 = {}\n",
    "    diccSem3['Metodología de la Programación']= values[0]\n",
    "    diccSem3['Estadística']= values[1]\n",
    "    diccSem3['Ingeniería del Software']= values[2]\n",
    "    diccSem3['Bases de Datos']= values[3]\n",
    "    diccSem3['Arquitectura de Computadores']= values[4]\n",
    "    return diccSem3"
   ]
  },
  {
   "cell_type": "code",
   "execution_count": null,
   "metadata": {},
   "outputs": [],
   "source": [
    "def funDiccSem4(values):\n",
    "    diccSem4 = {}\n",
    "    diccSem4['Estructuras de Datos']= values[0]\n",
    "    diccSem4['Redes']= values[1]\n",
    "    diccSem4['Interacción Hombre-Máquina']= values[2]\n",
    "    diccSem4['Fundamentos de Organización y Gestión de Empresas']= values[3]\n",
    "    diccSem4['Análisis y Diseño de Sistemas']= values[4]\n",
    "    return diccSem4"
   ]
  },
  {
   "cell_type": "code",
   "execution_count": null,
   "metadata": {},
   "outputs": [],
   "source": [
    "def funDiccSem5(values):\n",
    "    diccSem5 = {}\n",
    "    diccSem5['Arquitecturas Paralelas']= values[0]\n",
    "    diccSem5['Sistemas Inteligentes']= values[1]\n",
    "    diccSem5['Gestión de Proyectos']= values[2]\n",
    "    diccSem5['Diseño y Administración de Sistemas y Redes ']= values[3]\n",
    "    diccSem5[ 'Procesadores del Lenguaje']= values[4]"
   ]
  },
  {
   "cell_type": "code",
   "execution_count": null,
   "metadata": {},
   "outputs": [],
   "source": [
    "def funDiccSem6(values):\n",
    "    diccSem6 = {}\n",
    "    diccSem6['Programación Concurrente y de Tiempo Real']= values[0]\n",
    "    diccSem6['Seguridad Informática']= values[1]\n",
    "    diccSem6['Aplicaciones de Bases de Datos']= values[2]\n",
    "    diccSem6['Algoritmia']= values[3]\n",
    "    diccSem6['Métodos Numéricos y Optimización']= values[4]"
   ]
  },
  {
   "cell_type": "code",
   "execution_count": null,
   "metadata": {},
   "outputs": [],
   "source": [
    "def funDiccSem7(values):\n",
    "    diccSem7 = {}\n",
    "    diccSem7['Diseño e Implementación de Sistemas Digitales']= values[0]\n",
    "    diccSem7['Gestión de la Información']= values[1]\n",
    "    diccSem7['Diseño y Mantenimiento del Software']= values[2]\n",
    "    diccSem7['Organización y Gestión de Empresas']= values[3]\n",
    "    diccSem7['Mantenimiento de Equipos Informáticos']= values[4]    \n",
    "    diccSem7['Control por Computador']= values[5]\n",
    "    diccSem7['Hardware de Aplicación Específica']= values[6]\n",
    "    diccSem7['Validación y Pruebas']= values[7]\n",
    "    diccSem7['Computación Neuronal y Evolutiva']= values[8]\n",
    "    diccSem7['Programación de Sistemas Operativos']= values[9]\n",
    "    return diccSem7\n"
   ]
  },
  {
   "cell_type": "code",
   "execution_count": null,
   "metadata": {},
   "outputs": [],
   "source": [
    "def funDiccSem8(values):\n",
    "    diccSem8 = {}\n",
    "    diccSem8['Sistemas Distribuidos']= values[0]\n",
    "    diccSem8['Sistemas Empotrados y de Tiempo Real']= values[1]\n",
    "    diccSem8['Métodos Formales']= values[2]\n",
    "    diccSem8['Nuevas Tecnologías y Empresa']= values[3]\n",
    "    diccSem8['Minería de Datos']= values[4]\n",
    "    diccSem8['Desarrollo Avanzado de Sistemas Software']= values[5]\n",
    "    return diccSem8"
   ]
  },
  {
   "cell_type": "code",
   "execution_count": null,
   "metadata": {},
   "outputs": [],
   "source": []
  },
  {
   "cell_type": "code",
   "execution_count": null,
   "metadata": {},
   "outputs": [],
   "source": [
    "def porDefecto(asignaturas, dataframe):\n",
    "    for i in dataframe.columns:\n",
    "        asignaturas[i]=3\n",
    "    return asignaturas"
   ]
  },
  {
   "cell_type": "code",
   "execution_count": null,
   "metadata": {},
   "outputs": [],
   "source": [
    "asi= porDefecto(asignaturas, dataframe)"
   ]
  },
  {
   "cell_type": "code",
   "execution_count": null,
   "metadata": {},
   "outputs": [],
   "source": [
    "asi"
   ]
  },
  {
   "cell_type": "code",
   "execution_count": null,
   "metadata": {},
   "outputs": [],
   "source": [
    "# guardar valoración semestre"
   ]
  },
  {
   "cell_type": "code",
   "execution_count": null,
   "metadata": {},
   "outputs": [],
   "source": []
  }
 ],
 "metadata": {
  "anaconda-cloud": {},
  "kernelspec": {
   "display_name": "Python 3",
   "language": "python",
   "name": "python3"
  },
  "language_info": {
   "codemirror_mode": {
    "name": "ipython",
    "version": 3
   },
   "file_extension": ".py",
   "mimetype": "text/x-python",
   "name": "python",
   "nbconvert_exporter": "python",
   "pygments_lexer": "ipython3",
   "version": "3.6.4"
  }
 },
 "nbformat": 4,
 "nbformat_minor": 2
}
