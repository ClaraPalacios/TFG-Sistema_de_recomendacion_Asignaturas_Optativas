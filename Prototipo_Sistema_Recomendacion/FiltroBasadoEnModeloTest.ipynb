{
 "cells": [
  {
   "cell_type": "code",
   "execution_count": 1,
   "metadata": {
    "collapsed": true,
    "slideshow": {
     "slide_type": "-"
    }
   },
   "outputs": [],
   "source": [
    "import numpy as np\n",
    "from scipy.optimize import minimize\n",
    "#import scipy.io\n",
    "import matplotlib.pyplot as plt"
   ]
  },
  {
   "cell_type": "markdown",
   "metadata": {},
   "source": [
    "## Código inicial "
   ]
  },
  {
   "cell_type": "code",
   "execution_count": 2,
   "metadata": {
    "collapsed": true
   },
   "outputs": [],
   "source": [
    "#formato binario\n",
    "import pickle\n",
    "import pandas as pd\n",
    "import numpy as np\n",
    "import matplotlib.pyplot as plt\n",
    "from scipy.optimize import minimize\n",
    "import gspread\n",
    "from oauth2client.service_account import ServiceAccountCredentials"
   ]
  },
  {
   "cell_type": "code",
   "execution_count": 3,
   "metadata": {
    "collapsed": true
   },
   "outputs": [],
   "source": [
    "def obtener_datos():\n",
    "    # use creds to create a client to interact with the Google Drive API\n",
    "    scope = ['https://spreadsheets.google.com/feeds','https://www.googleapis.com/auth/drive']\n",
    "    creds = ServiceAccountCredentials.from_json_keyfile_name('client_secret.json', scope)\n",
    "    client = gspread.authorize(creds)\n",
    "    # Find a workbook by name and open the first sheet\n",
    "    # Make sure you use the right name here.\n",
    "    sheet = client.open(\"DatosTFG_SistemasRecomendacion\").sheet1\n",
    "\n",
    "    # Extract and print all of the values\n",
    "    list_of_hashes = sheet.get_all_records()\n",
    "    #print(list_of_hashes)\n",
    "    tabla = pd.DataFrame(data=sheet.get_all_records())\n",
    "    return tabla"
   ]
  },
  {
   "cell_type": "code",
   "execution_count": 4,
   "metadata": {
    "collapsed": true
   },
   "outputs": [],
   "source": [
    "tabla=obtener_datos()"
   ]
  },
  {
   "cell_type": "markdown",
   "metadata": {},
   "source": [
    "## Crear matrices Y, R\n",
    "Filas: ASIGNATURAS\n",
    "Columnas: USUARIOS"
   ]
  },
  {
   "cell_type": "code",
   "execution_count": 5,
   "metadata": {
    "collapsed": true
   },
   "outputs": [],
   "source": [
    "# Eliminar columnas innecesarias\n",
    "tabla2=tabla.drop(columns=['Submitted At', 'Token']).T\n",
    "# Crear matriz de ratings Y\n",
    "Y=tabla2.values\n",
    "# Convertir espacios en ceros\n",
    "Y[Y=='']=0 # eliminar los espacios\n",
    "# Crear matriz R\n",
    "R=np.zeros_like(Y)\n",
    "R[Y>0]=1"
   ]
  },
  {
   "cell_type": "code",
   "execution_count": 6,
   "metadata": {
    "collapsed": false
   },
   "outputs": [
    {
     "data": {
      "text/plain": [
       "(46, 56)"
      ]
     },
     "execution_count": 6,
     "metadata": {},
     "output_type": "execute_result"
    }
   ],
   "source": [
    "Y.shape"
   ]
  },
  {
   "cell_type": "code",
   "execution_count": 8,
   "metadata": {
    "collapsed": false
   },
   "outputs": [
    {
     "name": "stdout",
     "output_type": "stream",
     "text": [
      "usuario 40\n",
      "\n",
      "5 5 1 Algoritmia\n",
      "3 3 1 Análisis y Diseño de Sistemas\n",
      "3 3 1 Aplicaciones de Bases de Datos\n",
      "4 4 1 Arquitectura de Computadores\n",
      "3 3 1 Arquitecturas Paralelas\n",
      "3 3 1 Bases de Datos\n",
      "3 3 1 Computación Neuronal y Evolutiva\n",
      "3 3 1 Control por Computador\n",
      "3 3 1 Cálculo\n",
      "3 3 1 Desarrollo Avanzado de Sistemas Software\n",
      "3 3 1 Diseño e Implementación de Sistemas Digitales\n",
      "4 4 1 Diseño y Administración de Sistemas y Redes \n",
      "4 4 1 Diseño y Mantenimiento del Software\n",
      "4 4 1 Estadística\n",
      "4 4 1 Estructuras de Datos\n",
      "2 2 1 Fundamentos Deontológicos y Jurídicos de las TIC\n",
      "3 3 1 Fundamentos Físicos de la Informática\n",
      "4 4 1 Fundamentos de Computadores\n",
      "3 3 1 Fundamentos de Organización y Gestión de Empresas\n",
      "4 4 1 Gestión de Proyectos\n",
      "4 4 1 Gestión de la Información\n",
      "5 5 1 Hardware de Aplicación Específica\n",
      "3 3 1 Informática Básica\n",
      "3 3 1 Ingeniería del Software\n",
      "2 2 1 Inglés Aplicado a la Informática\n",
      "3 3 1 Interacción Hombre-Máquina\n",
      "5 5 1 Mantenimiento de Equipos Informáticos\n",
      "3 3 1 Matemática Discreta\n",
      "3 3 1 Metodología de la Programación\n",
      "5 5 1 Minería de Datos\n",
      "3 3 1 Métodos Formales\n",
      "5 5 1 Métodos Numéricos y Optimización\n",
      "4 4 1 Nuevas Tecnologías y Empresa\n",
      "4 4 1 Organización y Gestión de Empresas\n",
      "5 5 1 Procesadores del Lenguaje\n",
      "3 3 1 Programación\n",
      "5 5 1 Programación Concurrente y de Tiempo Real\n",
      "3 3 1 Programación de Sistemas Operativos\n",
      "3 3 1 Redes\n",
      "3 3 1 Seguridad Informática\n",
      "4 4 1 Sistemas Distribuidos\n",
      "3 3 1 Sistemas Empotrados y de Tiempo Real\n",
      "4 4 1 Sistemas Inteligentes\n",
      "3 3 1 Sistemas Operativos\n",
      "3 3 1 Validación y Pruebas\n",
      "4 4 1 Álgebra Lineal\n"
     ]
    }
   ],
   "source": [
    "# revisar por una columna (usuario) aleatorio\n",
    "u=np.random.randint(Y.shape[1])\n",
    "print('usuario %i\\n' %u)\n",
    "column=tabla2[u]\n",
    "for j in range(Y.shape[0]):\n",
    "    print(column[j],Y[j,u],R[j,u],column.index[j])"
   ]
  },
  {
   "cell_type": "markdown",
   "metadata": {},
   "source": [
    "## Ajujste del filtro"
   ]
  },
  {
   "cell_type": "code",
   "execution_count": 10,
   "metadata": {
    "collapsed": true
   },
   "outputs": [],
   "source": [
    "\n",
    "def cofi_cost_funct(parameters, Y, R, n_users,n_items, n_features, lamb):\n",
    "    cost =0\n",
    "    gradient = np.zeros_like(parameters)\n",
    "    # Si pasamos R como argumento, esto sobra \n",
    "    #R = np.zeros_like(Y)\n",
    "    #R[Y != 0] = 1\n",
    "    \n",
    "    Theta= np.reshape(parameters[0: n_users* n_features], (n_users, n_features))\n",
    "    X= np.reshape(parameters[n_users*n_features:] , (n_items,n_features))\n",
    "    \n",
    "    # Para reducir el número de multiplicaciones matriciales\n",
    "    error=(X.dot(Theta.T)- Y )*R\n",
    "    \n",
    "    J= (1/2)*sum(sum(np.power(error,2)))\n",
    "    cost= J + ((lamb/2) * sum(sum(np.power(X,2))))+((lamb/2) * sum(sum(np.power(Theta, 2))))\n",
    "    X_gradient = error.dot(Theta) + X*lamb               \n",
    "    Theta_gradient = error.T.dot(X) + Theta*lamb\n",
    "    \n",
    "    # Hay que pasar los gradientes (que son matrices) a vectores\n",
    "    Theta_gradient_vector=np.reshape(Theta_gradient,n_users*n_features)\n",
    "    X_gradient_vector=np.reshape(X_gradient,n_items*n_features)    \n",
    "    \n",
    "    gradient=np.concatenate((Theta_gradient_vector,X_gradient_vector))\n",
    "    #print(cost, gradient)\n",
    "    return (cost, gradient)"
   ]
  },
  {
   "cell_type": "code",
   "execution_count": 11,
   "metadata": {
    "collapsed": true
   },
   "outputs": [],
   "source": [
    "# Get dimensions: n_users and n_movies\n",
    "# Your code ..............\n",
    "n_users=Y.shape[1]\n",
    "n_items=Y.shape[0]\n"
   ]
  },
  {
   "cell_type": "code",
   "execution_count": 12,
   "metadata": {
    "collapsed": true
   },
   "outputs": [],
   "source": [
    "# Set the number of features\n",
    "n_features = 100"
   ]
  },
  {
   "cell_type": "code",
   "execution_count": 13,
   "metadata": {
    "collapsed": true
   },
   "outputs": [],
   "source": [
    "# Set the initial parameters (Theta, X) with random values\n",
    "# Your code ..............\n",
    "X=np.random.random((n_items,n_features))\n",
    "Theta=np.random.random((n_users,n_features))\n"
   ]
  },
  {
   "cell_type": "code",
   "execution_count": 14,
   "metadata": {
    "collapsed": true
   },
   "outputs": [],
   "source": [
    "# fold X and Theta into the variable initial_parameters\n",
    "# Your code ..............\n",
    "initial_parameters = np.append(Theta.flatten(),X.flatten())"
   ]
  },
  {
   "cell_type": "code",
   "execution_count": 15,
   "metadata": {
    "collapsed": true
   },
   "outputs": [],
   "source": [
    "# Set the regularization parameter\n",
    "lamb = 10\n",
    "\n",
    "# Define a function to be minimized\n",
    "def cofiCostFunc_minimize(parameters):\n",
    "    return cofi_cost_funct(parameters,Y, R, n_users, n_items, n_features,lamb)\n",
    "\n",
    "# Set the number of iteations\n",
    "max_iter=200"
   ]
  },
  {
   "cell_type": "code",
   "execution_count": 16,
   "metadata": {
    "collapsed": false
   },
   "outputs": [
    {
     "name": "stdout",
     "output_type": "stream",
     "text": [
      "Optimization terminated successfully.\n",
      "         Current function value: 2582.857977\n",
      "         Iterations: 183\n",
      "         Function evaluations: 284\n",
      "         Gradient evaluations: 284\n"
     ]
    }
   ],
   "source": [
    "# Minimize the function using minimize from the package scipy.optimize and get the optimized parameters\n",
    "parameters = (minimize(cofiCostFunc_minimize,initial_parameters,method=\"CG\",jac=True,\n",
    "                   options={'maxiter':max_iter, \"disp\":True})).x"
   ]
  },
  {
   "cell_type": "code",
   "execution_count": 18,
   "metadata": {
    "collapsed": true
   },
   "outputs": [],
   "source": [
    "# Unfold the returned optimized parameters back into X and Theta\n",
    "# Your code ..............\n",
    "Theta=parameters[0:n_users*n_features].reshape(n_users,n_features)\n",
    "X=parameters[n_users*n_features:].reshape(n_items,n_features)\n",
    "predictions = np.dot(X,Theta.T)"
   ]
  },
  {
   "cell_type": "code",
   "execution_count": 35,
   "metadata": {
    "collapsed": false
   },
   "outputs": [
    {
     "name": "stdout",
     "output_type": "stream",
     "text": [
      "Usuario 19\n",
      "Predicción\t Asignatura\n",
      "(4.4563)\t Bases de Datos\n",
      "(4.3653)\t Aplicaciones de Bases de Datos\n",
      "(4.2727)\t Hardware de Aplicación Específica\n",
      "(4.2182)\t Sistemas Inteligentes\n",
      "(4.1794)\t Metodología de la Programación\n"
     ]
    }
   ],
   "source": [
    "# Predicción para un usuario aleatorio\n",
    "u=np.random.randint(Y.shape[1])\n",
    "print('Usuario %i' %u)\n",
    "p=predictions[:,u]\n",
    "recommendations=[]\n",
    "asignaturas=tabla2.index\n",
    "print('Predicción\\t Asignatura')\n",
    "for i in range(5):\n",
    "    maxp= np.max(p)\n",
    "    [rm]=np.where(p==maxp)\n",
    "    recommendations.append(asignaturas[rm[0]])\n",
    "    p[rm[0]]=0\n",
    "    print('(%0.4f)\\t' % (maxp),asignaturas[rm[0]])"
   ]
  },
  {
   "cell_type": "code",
   "execution_count": null,
   "metadata": {
    "collapsed": true
   },
   "outputs": [],
   "source": []
  }
 ],
 "metadata": {
  "anaconda-cloud": {},
  "celltoolbar": "Slideshow",
  "kernelspec": {
   "display_name": "Python [conda root]",
   "language": "python",
   "name": "conda-root-py"
  },
  "language_info": {
   "codemirror_mode": {
    "name": "ipython",
    "version": 3
   },
   "file_extension": ".py",
   "mimetype": "text/x-python",
   "name": "python",
   "nbconvert_exporter": "python",
   "pygments_lexer": "ipython3",
   "version": "3.5.2"
  }
 },
 "nbformat": 4,
 "nbformat_minor": 1
}
